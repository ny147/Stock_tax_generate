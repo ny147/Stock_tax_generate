{
  "nbformat": 4,
  "nbformat_minor": 0,
  "metadata": {
    "colab": {
      "provenance": [],
      "authorship_tag": "ABX9TyPaSk5Cy6H4sjbYZmWA1wT/",
      "include_colab_link": true
    },
    "kernelspec": {
      "name": "python3",
      "display_name": "Python 3"
    },
    "language_info": {
      "name": "python"
    }
  },
  "cells": [
    {
      "cell_type": "markdown",
      "metadata": {
        "id": "view-in-github",
        "colab_type": "text"
      },
      "source": [
        "<a href=\"https://colab.research.google.com/github/ny147/Stock_tax_generate/blob/main/Stock_Tax_Csv.ipynb\" target=\"_parent\"><img src=\"https://colab.research.google.com/assets/colab-badge.svg\" alt=\"Open In Colab\"/></a>"
      ]
    },
    {
      "cell_type": "code",
      "execution_count": null,
      "metadata": {
        "colab": {
          "base_uri": "https://localhost:8080/"
        },
        "id": "FlGA1H_Hflcx",
        "outputId": "be0f1b44-7058-4179-a840-ec528edbb222"
      },
      "outputs": [
        {
          "output_type": "stream",
          "name": "stdout",
          "text": [
            "Collecting pdfplumber\n",
            "  Downloading pdfplumber-0.11.2-py3-none-any.whl (58 kB)\n",
            "\u001b[2K     \u001b[90m━━━━━━━━━━━━━━━━━━━━━━━━━━━━━━━━━━━━━━━━\u001b[0m \u001b[32m58.0/58.0 kB\u001b[0m \u001b[31m538.9 kB/s\u001b[0m eta \u001b[36m0:00:00\u001b[0m\n",
            "\u001b[?25hCollecting pdfminer.six==20231228 (from pdfplumber)\n",
            "  Downloading pdfminer.six-20231228-py3-none-any.whl (5.6 MB)\n",
            "\u001b[2K     \u001b[90m━━━━━━━━━━━━━━━━━━━━━━━━━━━━━━━━━━━━━━━━\u001b[0m \u001b[32m5.6/5.6 MB\u001b[0m \u001b[31m21.1 MB/s\u001b[0m eta \u001b[36m0:00:00\u001b[0m\n",
            "\u001b[?25hRequirement already satisfied: Pillow>=9.1 in /usr/local/lib/python3.10/dist-packages (from pdfplumber) (9.4.0)\n",
            "Collecting pypdfium2>=4.18.0 (from pdfplumber)\n",
            "  Downloading pypdfium2-4.30.0-py3-none-manylinux_2_17_x86_64.manylinux2014_x86_64.whl (2.8 MB)\n",
            "\u001b[2K     \u001b[90m━━━━━━━━━━━━━━━━━━━━━━━━━━━━━━━━━━━━━━━━\u001b[0m \u001b[32m2.8/2.8 MB\u001b[0m \u001b[31m21.0 MB/s\u001b[0m eta \u001b[36m0:00:00\u001b[0m\n",
            "\u001b[?25hRequirement already satisfied: charset-normalizer>=2.0.0 in /usr/local/lib/python3.10/dist-packages (from pdfminer.six==20231228->pdfplumber) (3.3.2)\n",
            "Requirement already satisfied: cryptography>=36.0.0 in /usr/local/lib/python3.10/dist-packages (from pdfminer.six==20231228->pdfplumber) (42.0.8)\n",
            "Requirement already satisfied: cffi>=1.12 in /usr/local/lib/python3.10/dist-packages (from cryptography>=36.0.0->pdfminer.six==20231228->pdfplumber) (1.16.0)\n",
            "Requirement already satisfied: pycparser in /usr/local/lib/python3.10/dist-packages (from cffi>=1.12->cryptography>=36.0.0->pdfminer.six==20231228->pdfplumber) (2.22)\n",
            "Installing collected packages: pypdfium2, pdfminer.six, pdfplumber\n",
            "Successfully installed pdfminer.six-20231228 pdfplumber-0.11.2 pypdfium2-4.30.0\n",
            "Collecting PyMuPDF\n",
            "  Downloading PyMuPDF-1.24.7-cp310-none-manylinux2014_x86_64.whl (3.5 MB)\n",
            "\u001b[2K     \u001b[90m━━━━━━━━━━━━━━━━━━━━━━━━━━━━━━━━━━━━━━━━\u001b[0m \u001b[32m3.5/3.5 MB\u001b[0m \u001b[31m13.5 MB/s\u001b[0m eta \u001b[36m0:00:00\u001b[0m\n",
            "\u001b[?25hCollecting PyMuPDFb==1.24.6 (from PyMuPDF)\n",
            "  Downloading PyMuPDFb-1.24.6-py3-none-manylinux2014_x86_64.manylinux_2_17_x86_64.whl (15.7 MB)\n",
            "\u001b[2K     \u001b[90m━━━━━━━━━━━━━━━━━━━━━━━━━━━━━━━━━━━━━━━━\u001b[0m \u001b[32m15.7/15.7 MB\u001b[0m \u001b[31m58.2 MB/s\u001b[0m eta \u001b[36m0:00:00\u001b[0m\n",
            "\u001b[?25hInstalling collected packages: PyMuPDFb, PyMuPDF\n",
            "Successfully installed PyMuPDF-1.24.7 PyMuPDFb-1.24.6\n"
          ]
        }
      ],
      "source": [
        "!pip install pdfplumber\n",
        "!pip install PyMuPDF"
      ]
    },
    {
      "cell_type": "code",
      "source": [
        "import pandas as pd\n",
        "import fitz,re, glob, os, pdfplumber\n",
        "from google.colab import drive\n",
        "import os.path\n",
        "from os import path"
      ],
      "metadata": {
        "id": "yTEhKiCBfxqu"
      },
      "execution_count": null,
      "outputs": []
    },
    {
      "cell_type": "code",
      "source": [
        "def is_password_protected_pdf(pdf_file_path):\n",
        "    doc = fitz.Document(pdf_file_path)\n",
        "    if doc.needs_pass:\n",
        "        return True\n",
        "    return False"
      ],
      "metadata": {
        "id": "sNkUhXuMged3"
      },
      "execution_count": null,
      "outputs": []
    },
    {
      "cell_type": "code",
      "source": [
        "def is_pdf_text_encrypted(pdf_file_path):\n",
        "    doc = fitz.Document(pdf_file_path)\n",
        "    if doc.metadata[\"encryption\"] is not None:\n",
        "        return True\n",
        "    return False"
      ],
      "metadata": {
        "id": "HE-JwmnSqMZ8"
      },
      "execution_count": null,
      "outputs": []
    },
    {
      "cell_type": "code",
      "source": [
        "def decrypt_pdf(doc_dir,pdf_file_path, password,name):\n",
        "    file_name = []\n",
        "    doc = fitz.Document(pdf_file_path)\n",
        "    if doc.authenticate(password):\n",
        "        file_name = f\"{name}_decrypted.pdf\"\n",
        "        doc.save(f\"{doc_dir}/Decrypted/{file_name}\")\n",
        "        print(\"\\Successfully decrypted PDF\")\n",
        "    else:\n",
        "        print(\"\\t Password incorrect!! Cannot decrypt PDF!!!\")\n",
        "    return f\"{doc_dir}/Decrypted/{file_name}\""
      ],
      "metadata": {
        "id": "GaYGYU5oqHDT"
      },
      "execution_count": null,
      "outputs": []
    },
    {
      "cell_type": "code",
      "source": [
        "def CONVERT_TO_PDF(path,name):\n",
        "  pdf = pdfplumber.open(path)\n",
        "  page = pdf.pages[0]\n",
        "  text = page.extract_text_simple()\n",
        "  pdf.close()\n",
        "\n",
        "  df_raw = text.split('\\n')\n",
        "  index = 0\n",
        "  for stindex in range(len(df_raw)-1,-1,-1):\n",
        "    if re.match(\"^CCY\",df_raw[stindex]):\n",
        "      index = stindex\n",
        "      break\n",
        "  df_raw_extract_cc = df_raw[index::][1:-1]\n",
        "\n",
        "  column = [ 'date','type','stock','unit','price per unit (USD)','currency','total price (USD)','Fee Include vat (USD)','Withhodling Tax (USD)','all price (USD)','total price (THB)',\n",
        "  'Fee Include vat (THB)','Withhodling Tax (THB)', 'all price (THB)',]\n",
        "\n",
        "  ls = []\n",
        "\n",
        "  for i in range(0,len(df_raw_extract_cc),2):\n",
        "    row = df_raw_extract_cc[i].split(\" \")[1:] + df_raw_extract_cc[i+1].split(\" \")[1:]\n",
        "    ls.append(row)\n",
        "\n",
        "\n",
        "  result_df = pd.DataFrame(ls,columns= column)\n",
        "\n",
        "  return result_df"
      ],
      "metadata": {
        "id": "bIJlQCUAmzr9"
      },
      "execution_count": null,
      "outputs": []
    },
    {
      "cell_type": "code",
      "source": [
        "def GENERATECSV(filelist):\n",
        "  result = None\n",
        "  for i,name in enumerate(filelist):\n",
        "    df_temp = CONVERT_TO_PDF(name,f\"number {i}\")\n",
        "    if result is None:\n",
        "      result = df_temp\n",
        "\n",
        "    else :\n",
        "      result = pd.concat([result,df_temp])\n",
        "  result.to_csv(f\"{doc_dir}/result/summary.csv\", index=False)"
      ],
      "metadata": {
        "id": "-4dmKpjhDX_Z"
      },
      "execution_count": null,
      "outputs": []
    },
    {
      "cell_type": "markdown",
      "source": [
        "## SET UP FILE"
      ],
      "metadata": {
        "id": "nJX6vh7DCpdQ"
      }
    },
    {
      "cell_type": "code",
      "source": [
        "drive.mount('/content/drive')"
      ],
      "metadata": {
        "colab": {
          "base_uri": "https://localhost:8080/"
        },
        "id": "d69GF7Z_CqpP",
        "outputId": "2a3a12b8-1a9e-4455-937f-c9497571c0d0"
      },
      "execution_count": null,
      "outputs": [
        {
          "output_type": "stream",
          "name": "stdout",
          "text": [
            "Mounted at /content/drive\n"
          ]
        }
      ]
    },
    {
      "cell_type": "code",
      "source": [
        "drive_dir = '/content/drive/MyDrive'\n",
        "\n",
        "## setup directory\n",
        "myFolder = \"Tax\"\n",
        "password=\"enter your password\"\n",
        "\n",
        "doc_dir = f\"{drive_dir}/{myFolder}\"\n"
      ],
      "metadata": {
        "id": "O73tZRxlCpPa"
      },
      "execution_count": null,
      "outputs": []
    },
    {
      "cell_type": "markdown",
      "source": [
        "## Create Drive"
      ],
      "metadata": {
        "id": "aODNsgDSuRLk"
      }
    },
    {
      "cell_type": "code",
      "source": [
        "if path.exists(f\"{doc_dir}/result\") == False:\n",
        "  os.mkdir(f\"{doc_dir}/result\")\n",
        "elif path.exists(f\"{doc_dir}/Decrypted\") == False:\n",
        "  os.mkdir(f\"{doc_dir}/Decrypted\")"
      ],
      "metadata": {
        "id": "OtDYDqi1rFNa"
      },
      "execution_count": null,
      "outputs": []
    },
    {
      "cell_type": "code",
      "source": [
        "fileList=[]\n",
        "os.chdir(doc_dir)\n",
        "for file in glob.glob(\"*.pdf\"):\n",
        "    filenamepath=f\"{doc_dir}/{file}\"\n",
        "    if is_password_protected_pdf(filenamepath) == True:\n",
        "      name = file.split(\".\")[0]\n",
        "      print(filenamepath)\n",
        "      fileList.append(decrypt_pdf(doc_dir,filenamepath,password,name))\n",
        "    else :\n",
        "      fileList.append(filenamepath)\n",
        "    print(file)\n"
      ],
      "metadata": {
        "colab": {
          "base_uri": "https://localhost:8080/"
        },
        "id": "K2UCGyLxCgOl",
        "outputId": "b02c01e6-0233-4359-cf20-d9f5e0d734ed"
      },
      "execution_count": null,
      "outputs": [
        {
          "output_type": "stream",
          "name": "stdout",
          "text": [
            "/content/drive/MyDrive/Tax/Dime_offshore_confirmationNote_9680_24062024105754.pdf\n",
            "\\Successfully decrypted PDF\n",
            "Dime_offshore_confirmationNote_9680_24062024105754.pdf\n",
            "/content/drive/MyDrive/Tax/Dime_offshore_confirmationNote_9680_14062024102538.pdf\n",
            "\\Successfully decrypted PDF\n",
            "Dime_offshore_confirmationNote_9680_14062024102538.pdf\n",
            "/content/drive/MyDrive/Tax/Dime_offshore_confirmationNote_9680_24052024104953 (1).pdf\n",
            "\\Successfully decrypted PDF\n",
            "Dime_offshore_confirmationNote_9680_24052024104953 (1).pdf\n",
            "/content/drive/MyDrive/Tax/Dime_offshore_confirmationNote_9680_28032024102615.pdf\n",
            "\\Successfully decrypted PDF\n",
            "Dime_offshore_confirmationNote_9680_28032024102615.pdf\n",
            "/content/drive/MyDrive/Tax/Dime_offshore_confirmationNote_9680_07032024102942.pdf\n",
            "\\Successfully decrypted PDF\n",
            "Dime_offshore_confirmationNote_9680_07032024102942.pdf\n",
            "/content/drive/MyDrive/Tax/Dime_offshore_confirmationNote_9680_01032024100432.pdf\n",
            "\\Successfully decrypted PDF\n",
            "Dime_offshore_confirmationNote_9680_01032024100432.pdf\n",
            "/content/drive/MyDrive/Tax/Dime_offshore_confirmationNote_9680_27022024101203.pdf\n",
            "\\Successfully decrypted PDF\n",
            "Dime_offshore_confirmationNote_9680_27022024101203.pdf\n",
            "/content/drive/MyDrive/Tax/Dime_offshore_confirmationNote_9680_22022024101704.pdf\n",
            "\\Successfully decrypted PDF\n",
            "Dime_offshore_confirmationNote_9680_22022024101704.pdf\n",
            "/content/drive/MyDrive/Tax/Dime_offshore_confirmationNote_9680_09022024102055.pdf\n",
            "\\Successfully decrypted PDF\n",
            "Dime_offshore_confirmationNote_9680_09022024102055.pdf\n"
          ]
        }
      ]
    },
    {
      "cell_type": "code",
      "source": [
        "GENERATECSV(fileList)"
      ],
      "metadata": {
        "id": "4N6nmqklB-vZ"
      },
      "execution_count": null,
      "outputs": []
    }
  ]
}